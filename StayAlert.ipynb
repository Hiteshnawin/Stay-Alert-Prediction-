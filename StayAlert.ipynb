{
 "cells": [
  {
   "cell_type": "code",
   "execution_count": 5,
   "id": "6d2c2001",
   "metadata": {},
   "outputs": [],
   "source": [
    "import pandas as pd\n",
    "import numpy as np\n",
    "import matplotlib.pyplot as plt\n",
    "import seaborn as sns\n",
    "from sklearn.model_selection import train_test_split\n",
    "from sklearn.preprocessing import LabelEncoder\n",
    "from sklearn.tree import DecisionTreeClassifier\n",
    "from sklearn.linear_model import LogisticRegression\n",
    "from sklearn.metrics import accuracy_score, confusion_matrix, classification_report\n",
    "from scipy import stats\n",
    "from sklearn.ensemble import AdaBoostClassifier"
   ]
  },
  {
   "cell_type": "code",
   "execution_count": 8,
   "id": "71c9401e",
   "metadata": {},
   "outputs": [],
   "source": [
    "train= pd.read_csv('fordTrain.csv')"
   ]
  },
  {
   "cell_type": "code",
   "execution_count": 9,
   "id": "ac0f23c8",
   "metadata": {},
   "outputs": [],
   "source": [
    "test=pd.read_csv('fordTest.csv')"
   ]
  },
  {
   "cell_type": "code",
   "execution_count": 10,
   "id": "301e29b5",
   "metadata": {
    "scrolled": true
   },
   "outputs": [
    {
     "name": "stdout",
     "output_type": "stream",
     "text": [
      "<class 'pandas.core.frame.DataFrame'>\n",
      "RangeIndex: 604329 entries, 0 to 604328\n",
      "Data columns (total 33 columns):\n",
      " #   Column   Non-Null Count   Dtype  \n",
      "---  ------   --------------   -----  \n",
      " 0   TrialID  604329 non-null  int64  \n",
      " 1   ObsNum   604329 non-null  int64  \n",
      " 2   IsAlert  604329 non-null  int64  \n",
      " 3   P1       604329 non-null  float64\n",
      " 4   P2       604329 non-null  float64\n",
      " 5   P3       604329 non-null  int64  \n",
      " 6   P4       604329 non-null  float64\n",
      " 7   P5       604329 non-null  float64\n",
      " 8   P6       604329 non-null  int64  \n",
      " 9   P7       604329 non-null  float64\n",
      " 10  P8       604329 non-null  int64  \n",
      " 11  E1       604329 non-null  float64\n",
      " 12  E2       604329 non-null  float64\n",
      " 13  E3       604329 non-null  int64  \n",
      " 14  E4       604329 non-null  int64  \n",
      " 15  E5       604329 non-null  float64\n",
      " 16  E6       604329 non-null  int64  \n",
      " 17  E7       604329 non-null  int64  \n",
      " 18  E8       604329 non-null  int64  \n",
      " 19  E9       604329 non-null  int64  \n",
      " 20  E10      604329 non-null  int64  \n",
      " 21  E11      604329 non-null  float64\n",
      " 22  V1       604329 non-null  float64\n",
      " 23  V2       604329 non-null  float64\n",
      " 24  V3       604329 non-null  int64  \n",
      " 25  V4       604329 non-null  float64\n",
      " 26  V5       604329 non-null  int64  \n",
      " 27  V6       604329 non-null  int64  \n",
      " 28  V7       604329 non-null  int64  \n",
      " 29  V8       604329 non-null  float64\n",
      " 30  V9       604329 non-null  int64  \n",
      " 31  V10      604329 non-null  int64  \n",
      " 32  V11      604329 non-null  float64\n",
      "dtypes: float64(14), int64(19)\n",
      "memory usage: 152.2 MB\n"
     ]
    }
   ],
   "source": [
    "train.info()"
   ]
  },
  {
   "cell_type": "code",
   "execution_count": 11,
   "id": "bcbb0b57",
   "metadata": {},
   "outputs": [
    {
     "data": {
      "text/html": [
       "<div>\n",
       "<style scoped>\n",
       "    .dataframe tbody tr th:only-of-type {\n",
       "        vertical-align: middle;\n",
       "    }\n",
       "\n",
       "    .dataframe tbody tr th {\n",
       "        vertical-align: top;\n",
       "    }\n",
       "\n",
       "    .dataframe thead th {\n",
       "        text-align: right;\n",
       "    }\n",
       "</style>\n",
       "<table border=\"1\" class=\"dataframe\">\n",
       "  <thead>\n",
       "    <tr style=\"text-align: right;\">\n",
       "      <th></th>\n",
       "      <th>TrialID</th>\n",
       "      <th>ObsNum</th>\n",
       "      <th>IsAlert</th>\n",
       "      <th>P1</th>\n",
       "      <th>P2</th>\n",
       "      <th>P3</th>\n",
       "      <th>P4</th>\n",
       "      <th>P5</th>\n",
       "      <th>P6</th>\n",
       "      <th>P7</th>\n",
       "      <th>...</th>\n",
       "      <th>V2</th>\n",
       "      <th>V3</th>\n",
       "      <th>V4</th>\n",
       "      <th>V5</th>\n",
       "      <th>V6</th>\n",
       "      <th>V7</th>\n",
       "      <th>V8</th>\n",
       "      <th>V9</th>\n",
       "      <th>V10</th>\n",
       "      <th>V11</th>\n",
       "    </tr>\n",
       "  </thead>\n",
       "  <tbody>\n",
       "    <tr>\n",
       "      <th>count</th>\n",
       "      <td>604329.000000</td>\n",
       "      <td>604329.000000</td>\n",
       "      <td>604329.000000</td>\n",
       "      <td>604329.000000</td>\n",
       "      <td>604329.000000</td>\n",
       "      <td>604329.000000</td>\n",
       "      <td>604329.000000</td>\n",
       "      <td>604329.000000</td>\n",
       "      <td>604329.000000</td>\n",
       "      <td>604329.000000</td>\n",
       "      <td>...</td>\n",
       "      <td>604329.000000</td>\n",
       "      <td>604329.000000</td>\n",
       "      <td>604329.000000</td>\n",
       "      <td>604329.000000</td>\n",
       "      <td>604329.000000</td>\n",
       "      <td>604329.0</td>\n",
       "      <td>604329.000000</td>\n",
       "      <td>604329.0</td>\n",
       "      <td>604329.000000</td>\n",
       "      <td>604329.000000</td>\n",
       "    </tr>\n",
       "    <tr>\n",
       "      <th>mean</th>\n",
       "      <td>250.167657</td>\n",
       "      <td>603.841765</td>\n",
       "      <td>0.578799</td>\n",
       "      <td>35.449020</td>\n",
       "      <td>11.996525</td>\n",
       "      <td>1026.671035</td>\n",
       "      <td>64.061965</td>\n",
       "      <td>0.178923</td>\n",
       "      <td>845.384610</td>\n",
       "      <td>77.887628</td>\n",
       "      <td>...</td>\n",
       "      <td>-0.037710</td>\n",
       "      <td>573.786433</td>\n",
       "      <td>19.961030</td>\n",
       "      <td>0.179814</td>\n",
       "      <td>1715.688383</td>\n",
       "      <td>0.0</td>\n",
       "      <td>12.710354</td>\n",
       "      <td>0.0</td>\n",
       "      <td>3.312257</td>\n",
       "      <td>11.668277</td>\n",
       "    </tr>\n",
       "    <tr>\n",
       "      <th>std</th>\n",
       "      <td>145.446164</td>\n",
       "      <td>348.931601</td>\n",
       "      <td>0.493752</td>\n",
       "      <td>7.484629</td>\n",
       "      <td>3.760292</td>\n",
       "      <td>309.277877</td>\n",
       "      <td>19.755950</td>\n",
       "      <td>0.372309</td>\n",
       "      <td>2505.335141</td>\n",
       "      <td>18.577930</td>\n",
       "      <td>...</td>\n",
       "      <td>0.403896</td>\n",
       "      <td>298.412888</td>\n",
       "      <td>63.269456</td>\n",
       "      <td>0.384033</td>\n",
       "      <td>618.176470</td>\n",
       "      <td>0.0</td>\n",
       "      <td>11.532085</td>\n",
       "      <td>0.0</td>\n",
       "      <td>1.243586</td>\n",
       "      <td>9.934423</td>\n",
       "    </tr>\n",
       "    <tr>\n",
       "      <th>min</th>\n",
       "      <td>0.000000</td>\n",
       "      <td>0.000000</td>\n",
       "      <td>0.000000</td>\n",
       "      <td>-22.481200</td>\n",
       "      <td>-45.629200</td>\n",
       "      <td>504.000000</td>\n",
       "      <td>23.885300</td>\n",
       "      <td>0.038920</td>\n",
       "      <td>128.000000</td>\n",
       "      <td>0.262224</td>\n",
       "      <td>...</td>\n",
       "      <td>-4.795000</td>\n",
       "      <td>240.000000</td>\n",
       "      <td>0.000000</td>\n",
       "      <td>0.000000</td>\n",
       "      <td>0.000000</td>\n",
       "      <td>0.0</td>\n",
       "      <td>0.000000</td>\n",
       "      <td>0.0</td>\n",
       "      <td>1.000000</td>\n",
       "      <td>1.676730</td>\n",
       "    </tr>\n",
       "    <tr>\n",
       "      <th>25%</th>\n",
       "      <td>125.000000</td>\n",
       "      <td>302.000000</td>\n",
       "      <td>0.000000</td>\n",
       "      <td>31.758100</td>\n",
       "      <td>9.903540</td>\n",
       "      <td>792.000000</td>\n",
       "      <td>49.180300</td>\n",
       "      <td>0.092110</td>\n",
       "      <td>668.000000</td>\n",
       "      <td>66.666700</td>\n",
       "      <td>...</td>\n",
       "      <td>-0.175000</td>\n",
       "      <td>255.000000</td>\n",
       "      <td>1.487500</td>\n",
       "      <td>0.000000</td>\n",
       "      <td>1259.000000</td>\n",
       "      <td>0.0</td>\n",
       "      <td>0.000000</td>\n",
       "      <td>0.0</td>\n",
       "      <td>3.000000</td>\n",
       "      <td>7.947680</td>\n",
       "    </tr>\n",
       "    <tr>\n",
       "      <th>50%</th>\n",
       "      <td>250.000000</td>\n",
       "      <td>604.000000</td>\n",
       "      <td>1.000000</td>\n",
       "      <td>34.145100</td>\n",
       "      <td>11.400400</td>\n",
       "      <td>1000.000000</td>\n",
       "      <td>60.000000</td>\n",
       "      <td>0.105083</td>\n",
       "      <td>800.000000</td>\n",
       "      <td>75.000000</td>\n",
       "      <td>...</td>\n",
       "      <td>0.000000</td>\n",
       "      <td>511.000000</td>\n",
       "      <td>3.018750</td>\n",
       "      <td>0.000000</td>\n",
       "      <td>1994.000000</td>\n",
       "      <td>0.0</td>\n",
       "      <td>12.800000</td>\n",
       "      <td>0.0</td>\n",
       "      <td>4.000000</td>\n",
       "      <td>10.772600</td>\n",
       "    </tr>\n",
       "    <tr>\n",
       "      <th>75%</th>\n",
       "      <td>374.000000</td>\n",
       "      <td>906.000000</td>\n",
       "      <td>1.000000</td>\n",
       "      <td>37.311900</td>\n",
       "      <td>13.644200</td>\n",
       "      <td>1220.000000</td>\n",
       "      <td>75.757600</td>\n",
       "      <td>0.138814</td>\n",
       "      <td>900.000000</td>\n",
       "      <td>89.820400</td>\n",
       "      <td>...</td>\n",
       "      <td>0.070000</td>\n",
       "      <td>767.000000</td>\n",
       "      <td>7.481250</td>\n",
       "      <td>0.000000</td>\n",
       "      <td>2146.000000</td>\n",
       "      <td>0.0</td>\n",
       "      <td>21.900000</td>\n",
       "      <td>0.0</td>\n",
       "      <td>4.000000</td>\n",
       "      <td>15.270900</td>\n",
       "    </tr>\n",
       "    <tr>\n",
       "      <th>max</th>\n",
       "      <td>510.000000</td>\n",
       "      <td>1210.000000</td>\n",
       "      <td>1.000000</td>\n",
       "      <td>101.351000</td>\n",
       "      <td>71.173700</td>\n",
       "      <td>2512.000000</td>\n",
       "      <td>119.048000</td>\n",
       "      <td>27.202200</td>\n",
       "      <td>228812.000000</td>\n",
       "      <td>468.750000</td>\n",
       "      <td>...</td>\n",
       "      <td>3.990000</td>\n",
       "      <td>1023.000000</td>\n",
       "      <td>484.488000</td>\n",
       "      <td>1.000000</td>\n",
       "      <td>4892.000000</td>\n",
       "      <td>0.0</td>\n",
       "      <td>82.100000</td>\n",
       "      <td>0.0</td>\n",
       "      <td>7.000000</td>\n",
       "      <td>262.534000</td>\n",
       "    </tr>\n",
       "  </tbody>\n",
       "</table>\n",
       "<p>8 rows × 33 columns</p>\n",
       "</div>"
      ],
      "text/plain": [
       "             TrialID         ObsNum        IsAlert             P1  \\\n",
       "count  604329.000000  604329.000000  604329.000000  604329.000000   \n",
       "mean      250.167657     603.841765       0.578799      35.449020   \n",
       "std       145.446164     348.931601       0.493752       7.484629   \n",
       "min         0.000000       0.000000       0.000000     -22.481200   \n",
       "25%       125.000000     302.000000       0.000000      31.758100   \n",
       "50%       250.000000     604.000000       1.000000      34.145100   \n",
       "75%       374.000000     906.000000       1.000000      37.311900   \n",
       "max       510.000000    1210.000000       1.000000     101.351000   \n",
       "\n",
       "                  P2             P3             P4             P5  \\\n",
       "count  604329.000000  604329.000000  604329.000000  604329.000000   \n",
       "mean       11.996525    1026.671035      64.061965       0.178923   \n",
       "std         3.760292     309.277877      19.755950       0.372309   \n",
       "min       -45.629200     504.000000      23.885300       0.038920   \n",
       "25%         9.903540     792.000000      49.180300       0.092110   \n",
       "50%        11.400400    1000.000000      60.000000       0.105083   \n",
       "75%        13.644200    1220.000000      75.757600       0.138814   \n",
       "max        71.173700    2512.000000     119.048000      27.202200   \n",
       "\n",
       "                  P6             P7  ...             V2             V3  \\\n",
       "count  604329.000000  604329.000000  ...  604329.000000  604329.000000   \n",
       "mean      845.384610      77.887628  ...      -0.037710     573.786433   \n",
       "std      2505.335141      18.577930  ...       0.403896     298.412888   \n",
       "min       128.000000       0.262224  ...      -4.795000     240.000000   \n",
       "25%       668.000000      66.666700  ...      -0.175000     255.000000   \n",
       "50%       800.000000      75.000000  ...       0.000000     511.000000   \n",
       "75%       900.000000      89.820400  ...       0.070000     767.000000   \n",
       "max    228812.000000     468.750000  ...       3.990000    1023.000000   \n",
       "\n",
       "                  V4             V5             V6        V7             V8  \\\n",
       "count  604329.000000  604329.000000  604329.000000  604329.0  604329.000000   \n",
       "mean       19.961030       0.179814    1715.688383       0.0      12.710354   \n",
       "std        63.269456       0.384033     618.176470       0.0      11.532085   \n",
       "min         0.000000       0.000000       0.000000       0.0       0.000000   \n",
       "25%         1.487500       0.000000    1259.000000       0.0       0.000000   \n",
       "50%         3.018750       0.000000    1994.000000       0.0      12.800000   \n",
       "75%         7.481250       0.000000    2146.000000       0.0      21.900000   \n",
       "max       484.488000       1.000000    4892.000000       0.0      82.100000   \n",
       "\n",
       "             V9            V10            V11  \n",
       "count  604329.0  604329.000000  604329.000000  \n",
       "mean        0.0       3.312257      11.668277  \n",
       "std         0.0       1.243586       9.934423  \n",
       "min         0.0       1.000000       1.676730  \n",
       "25%         0.0       3.000000       7.947680  \n",
       "50%         0.0       4.000000      10.772600  \n",
       "75%         0.0       4.000000      15.270900  \n",
       "max         0.0       7.000000     262.534000  \n",
       "\n",
       "[8 rows x 33 columns]"
      ]
     },
     "execution_count": 11,
     "metadata": {},
     "output_type": "execute_result"
    }
   ],
   "source": [
    "train.describe()"
   ]
  },
  {
   "cell_type": "code",
   "execution_count": 12,
   "id": "57484ea9",
   "metadata": {},
   "outputs": [
    {
     "data": {
      "text/plain": [
       "<AxesSubplot:>"
      ]
     },
     "execution_count": 12,
     "metadata": {},
     "output_type": "execute_result"
    },
    {
     "data": {
      "image/png": "[encoded data removed]",
      "text/plain": [
       "<Figure size 640x480 with 1 Axes>"
      ]
     },
     "metadata": {},
     "output_type": "display_data"
    }
   ],
   "source": [
    "train['P5'].plot(kind='box')"
   ]
  },
  {
   "cell_type": "code",
   "execution_count": 13,
   "id": "7d522ed7",
   "metadata": {},
   "outputs": [
    {
     "data": {
      "text/plain": [
       "TrialID     0.024138\n",
       "ObsNum      0.000214\n",
       "IsAlert    -0.319185\n",
       "P1          2.445986\n",
       "P2          0.863450\n",
       "P3          0.507984\n",
       "P4          0.643117\n",
       "P5         20.225034\n",
       "P6         89.789752\n",
       "P7          1.937124\n",
       "P8          0.000000\n",
       "E1          0.766075\n",
       "E2          0.754220\n",
       "E3          3.352342\n",
       "E4         -2.467771\n",
       "E5          0.175100\n",
       "E6         -0.469872\n",
       "E7          2.844119\n",
       "E8          2.200218\n",
       "E9         -2.292728\n",
       "E10        -0.433540\n",
       "E11         4.062888\n",
       "V1         -0.941470\n",
       "V2         -0.759452\n",
       "V3          0.261053\n",
       "V4          5.144928\n",
       "V5          1.667496\n",
       "V6         -0.871827\n",
       "V7          0.000000\n",
       "V8          0.406715\n",
       "V9          0.000000\n",
       "V10        -1.172114\n",
       "V11        21.165566\n",
       "dtype: float64"
      ]
     },
     "execution_count": 13,
     "metadata": {},
     "output_type": "execute_result"
    }
   ],
   "source": [
    "train.skew()"
   ]
  },
  {
   "cell_type": "code",
   "execution_count": 18,
   "id": "a5f18eb9",
   "metadata": {},
   "outputs": [
    {
     "data": {
      "text/plain": [
       "<AxesSubplot:>"
      ]
     },
     "execution_count": 18,
     "metadata": {},
     "output_type": "execute_result"
    },
    {
     "data": {
      "image/png": "[encoded data removed]",
      "text/plain": [
       "<Figure size 640x480 with 2 Axes>"
      ]
     },
     "metadata": {},
     "output_type": "display_data"
    }
   ],
   "source": [
    "sns.heatmap(train.corr())"
   ]
  },
  {
   "cell_type": "code",
   "execution_count": 19,
   "id": "beee9cce",
   "metadata": {},
   "outputs": [
    {
     "data": {
      "text/html": [
       "<div>\n",
       "<style scoped>\n",
       "    .dataframe tbody tr th:only-of-type {\n",
       "        vertical-align: middle;\n",
       "    }\n",
       "\n",
       "    .dataframe tbody tr th {\n",
       "        vertical-align: top;\n",
       "    }\n",
       "\n",
       "    .dataframe thead th {\n",
       "        text-align: right;\n",
       "    }\n",
       "</style>\n",
       "<table border=\"1\" class=\"dataframe\">\n",
       "  <thead>\n",
       "    <tr style=\"text-align: right;\">\n",
       "      <th></th>\n",
       "      <th>P1</th>\n",
       "      <th>P2</th>\n",
       "      <th>P3</th>\n",
       "      <th>P4</th>\n",
       "      <th>P5</th>\n",
       "      <th>P6</th>\n",
       "      <th>P7</th>\n",
       "      <th>P8</th>\n",
       "      <th>E1</th>\n",
       "      <th>E2</th>\n",
       "      <th>...</th>\n",
       "      <th>V2</th>\n",
       "      <th>V3</th>\n",
       "      <th>V4</th>\n",
       "      <th>V5</th>\n",
       "      <th>V6</th>\n",
       "      <th>V7</th>\n",
       "      <th>V8</th>\n",
       "      <th>V9</th>\n",
       "      <th>V10</th>\n",
       "      <th>V11</th>\n",
       "    </tr>\n",
       "  </thead>\n",
       "  <tbody>\n",
       "    <tr>\n",
       "      <th>0</th>\n",
       "      <td>34.7406</td>\n",
       "      <td>9.84593</td>\n",
       "      <td>1400</td>\n",
       "      <td>42.8571</td>\n",
       "      <td>0.290601</td>\n",
       "      <td>572</td>\n",
       "      <td>104.8950</td>\n",
       "      <td>0</td>\n",
       "      <td>0.000</td>\n",
       "      <td>0.00</td>\n",
       "      <td>...</td>\n",
       "      <td>0.175</td>\n",
       "      <td>752</td>\n",
       "      <td>5.99375</td>\n",
       "      <td>0</td>\n",
       "      <td>2005</td>\n",
       "      <td>0</td>\n",
       "      <td>13.4</td>\n",
       "      <td>0</td>\n",
       "      <td>4</td>\n",
       "      <td>14.8004</td>\n",
       "    </tr>\n",
       "    <tr>\n",
       "      <th>1</th>\n",
       "      <td>34.4215</td>\n",
       "      <td>13.41120</td>\n",
       "      <td>1400</td>\n",
       "      <td>42.8571</td>\n",
       "      <td>0.290601</td>\n",
       "      <td>572</td>\n",
       "      <td>104.8950</td>\n",
       "      <td>0</td>\n",
       "      <td>0.000</td>\n",
       "      <td>0.00</td>\n",
       "      <td>...</td>\n",
       "      <td>0.455</td>\n",
       "      <td>752</td>\n",
       "      <td>5.99375</td>\n",
       "      <td>0</td>\n",
       "      <td>2007</td>\n",
       "      <td>0</td>\n",
       "      <td>13.4</td>\n",
       "      <td>0</td>\n",
       "      <td>4</td>\n",
       "      <td>14.7729</td>\n",
       "    </tr>\n",
       "    <tr>\n",
       "      <th>2</th>\n",
       "      <td>34.3447</td>\n",
       "      <td>15.18520</td>\n",
       "      <td>1400</td>\n",
       "      <td>42.8571</td>\n",
       "      <td>0.290601</td>\n",
       "      <td>576</td>\n",
       "      <td>104.1670</td>\n",
       "      <td>0</td>\n",
       "      <td>0.000</td>\n",
       "      <td>0.00</td>\n",
       "      <td>...</td>\n",
       "      <td>0.280</td>\n",
       "      <td>752</td>\n",
       "      <td>5.99375</td>\n",
       "      <td>0</td>\n",
       "      <td>2011</td>\n",
       "      <td>0</td>\n",
       "      <td>13.4</td>\n",
       "      <td>0</td>\n",
       "      <td>4</td>\n",
       "      <td>14.7736</td>\n",
       "    </tr>\n",
       "    <tr>\n",
       "      <th>3</th>\n",
       "      <td>34.3421</td>\n",
       "      <td>8.84696</td>\n",
       "      <td>1400</td>\n",
       "      <td>42.8571</td>\n",
       "      <td>0.290601</td>\n",
       "      <td>576</td>\n",
       "      <td>104.1670</td>\n",
       "      <td>0</td>\n",
       "      <td>0.000</td>\n",
       "      <td>0.00</td>\n",
       "      <td>...</td>\n",
       "      <td>0.070</td>\n",
       "      <td>752</td>\n",
       "      <td>5.99375</td>\n",
       "      <td>0</td>\n",
       "      <td>2015</td>\n",
       "      <td>0</td>\n",
       "      <td>13.4</td>\n",
       "      <td>0</td>\n",
       "      <td>4</td>\n",
       "      <td>14.7667</td>\n",
       "    </tr>\n",
       "    <tr>\n",
       "      <th>4</th>\n",
       "      <td>34.3322</td>\n",
       "      <td>14.69940</td>\n",
       "      <td>1400</td>\n",
       "      <td>42.8571</td>\n",
       "      <td>0.290601</td>\n",
       "      <td>576</td>\n",
       "      <td>104.1670</td>\n",
       "      <td>0</td>\n",
       "      <td>0.000</td>\n",
       "      <td>0.00</td>\n",
       "      <td>...</td>\n",
       "      <td>0.175</td>\n",
       "      <td>752</td>\n",
       "      <td>5.99375</td>\n",
       "      <td>0</td>\n",
       "      <td>2017</td>\n",
       "      <td>0</td>\n",
       "      <td>13.4</td>\n",
       "      <td>0</td>\n",
       "      <td>4</td>\n",
       "      <td>14.7757</td>\n",
       "    </tr>\n",
       "    <tr>\n",
       "      <th>...</th>\n",
       "      <td>...</td>\n",
       "      <td>...</td>\n",
       "      <td>...</td>\n",
       "      <td>...</td>\n",
       "      <td>...</td>\n",
       "      <td>...</td>\n",
       "      <td>...</td>\n",
       "      <td>...</td>\n",
       "      <td>...</td>\n",
       "      <td>...</td>\n",
       "      <td>...</td>\n",
       "      <td>...</td>\n",
       "      <td>...</td>\n",
       "      <td>...</td>\n",
       "      <td>...</td>\n",
       "      <td>...</td>\n",
       "      <td>...</td>\n",
       "      <td>...</td>\n",
       "      <td>...</td>\n",
       "      <td>...</td>\n",
       "      <td>...</td>\n",
       "    </tr>\n",
       "    <tr>\n",
       "      <th>604324</th>\n",
       "      <td>32.0051</td>\n",
       "      <td>10.13240</td>\n",
       "      <td>800</td>\n",
       "      <td>75.0000</td>\n",
       "      <td>0.081731</td>\n",
       "      <td>680</td>\n",
       "      <td>88.2353</td>\n",
       "      <td>0</td>\n",
       "      <td>17.807</td>\n",
       "      <td>222.11</td>\n",
       "      <td>...</td>\n",
       "      <td>0.280</td>\n",
       "      <td>240</td>\n",
       "      <td>3.01875</td>\n",
       "      <td>0</td>\n",
       "      <td>1801</td>\n",
       "      <td>0</td>\n",
       "      <td>30.4</td>\n",
       "      <td>0</td>\n",
       "      <td>4</td>\n",
       "      <td>15.8113</td>\n",
       "    </tr>\n",
       "    <tr>\n",
       "      <th>604325</th>\n",
       "      <td>32.0393</td>\n",
       "      <td>12.45040</td>\n",
       "      <td>800</td>\n",
       "      <td>75.0000</td>\n",
       "      <td>0.081731</td>\n",
       "      <td>680</td>\n",
       "      <td>88.2353</td>\n",
       "      <td>0</td>\n",
       "      <td>17.807</td>\n",
       "      <td>222.11</td>\n",
       "      <td>...</td>\n",
       "      <td>0.280</td>\n",
       "      <td>240</td>\n",
       "      <td>3.01875</td>\n",
       "      <td>0</td>\n",
       "      <td>1801</td>\n",
       "      <td>0</td>\n",
       "      <td>30.4</td>\n",
       "      <td>0</td>\n",
       "      <td>4</td>\n",
       "      <td>15.8018</td>\n",
       "    </tr>\n",
       "    <tr>\n",
       "      <th>604326</th>\n",
       "      <td>32.0762</td>\n",
       "      <td>10.06180</td>\n",
       "      <td>800</td>\n",
       "      <td>75.0000</td>\n",
       "      <td>0.081731</td>\n",
       "      <td>680</td>\n",
       "      <td>88.2353</td>\n",
       "      <td>0</td>\n",
       "      <td>17.807</td>\n",
       "      <td>222.11</td>\n",
       "      <td>...</td>\n",
       "      <td>0.175</td>\n",
       "      <td>240</td>\n",
       "      <td>3.01875</td>\n",
       "      <td>0</td>\n",
       "      <td>1800</td>\n",
       "      <td>0</td>\n",
       "      <td>31.3</td>\n",
       "      <td>0</td>\n",
       "      <td>4</td>\n",
       "      <td>15.8120</td>\n",
       "    </tr>\n",
       "    <tr>\n",
       "      <th>604327</th>\n",
       "      <td>32.1154</td>\n",
       "      <td>17.84500</td>\n",
       "      <td>800</td>\n",
       "      <td>75.0000</td>\n",
       "      <td>0.081731</td>\n",
       "      <td>680</td>\n",
       "      <td>88.2353</td>\n",
       "      <td>0</td>\n",
       "      <td>17.807</td>\n",
       "      <td>222.11</td>\n",
       "      <td>...</td>\n",
       "      <td>0.175</td>\n",
       "      <td>240</td>\n",
       "      <td>3.01875</td>\n",
       "      <td>0</td>\n",
       "      <td>1800</td>\n",
       "      <td>0</td>\n",
       "      <td>31.3</td>\n",
       "      <td>0</td>\n",
       "      <td>4</td>\n",
       "      <td>15.8270</td>\n",
       "    </tr>\n",
       "    <tr>\n",
       "      <th>604328</th>\n",
       "      <td>32.1154</td>\n",
       "      <td>17.84500</td>\n",
       "      <td>800</td>\n",
       "      <td>75.0000</td>\n",
       "      <td>0.081731</td>\n",
       "      <td>680</td>\n",
       "      <td>88.2353</td>\n",
       "      <td>0</td>\n",
       "      <td>17.807</td>\n",
       "      <td>222.11</td>\n",
       "      <td>...</td>\n",
       "      <td>0.175</td>\n",
       "      <td>240</td>\n",
       "      <td>3.01875</td>\n",
       "      <td>0</td>\n",
       "      <td>1800</td>\n",
       "      <td>0</td>\n",
       "      <td>31.3</td>\n",
       "      <td>0</td>\n",
       "      <td>4</td>\n",
       "      <td>15.8270</td>\n",
       "    </tr>\n",
       "  </tbody>\n",
       "</table>\n",
       "<p>604329 rows × 30 columns</p>\n",
       "</div>"
      ],
      "text/plain": [
       "             P1        P2    P3       P4        P5   P6        P7  P8      E1  \\\n",
       "0       34.7406   9.84593  1400  42.8571  0.290601  572  104.8950   0   0.000   \n",
       "1       34.4215  13.41120  1400  42.8571  0.290601  572  104.8950   0   0.000   \n",
       "2       34.3447  15.18520  1400  42.8571  0.290601  576  104.1670   0   0.000   \n",
       "3       34.3421   8.84696  1400  42.8571  0.290601  576  104.1670   0   0.000   \n",
       "4       34.3322  14.69940  1400  42.8571  0.290601  576  104.1670   0   0.000   \n",
       "...         ...       ...   ...      ...       ...  ...       ...  ..     ...   \n",
       "604324  32.0051  10.13240   800  75.0000  0.081731  680   88.2353   0  17.807   \n",
       "604325  32.0393  12.45040   800  75.0000  0.081731  680   88.2353   0  17.807   \n",
       "604326  32.0762  10.06180   800  75.0000  0.081731  680   88.2353   0  17.807   \n",
       "604327  32.1154  17.84500   800  75.0000  0.081731  680   88.2353   0  17.807   \n",
       "604328  32.1154  17.84500   800  75.0000  0.081731  680   88.2353   0  17.807   \n",
       "\n",
       "            E2  ...     V2   V3       V4  V5    V6  V7    V8  V9  V10      V11  \n",
       "0         0.00  ...  0.175  752  5.99375   0  2005   0  13.4   0    4  14.8004  \n",
       "1         0.00  ...  0.455  752  5.99375   0  2007   0  13.4   0    4  14.7729  \n",
       "2         0.00  ...  0.280  752  5.99375   0  2011   0  13.4   0    4  14.7736  \n",
       "3         0.00  ...  0.070  752  5.99375   0  2015   0  13.4   0    4  14.7667  \n",
       "4         0.00  ...  0.175  752  5.99375   0  2017   0  13.4   0    4  14.7757  \n",
       "...        ...  ...    ...  ...      ...  ..   ...  ..   ...  ..  ...      ...  \n",
       "604324  222.11  ...  0.280  240  3.01875   0  1801   0  30.4   0    4  15.8113  \n",
       "604325  222.11  ...  0.280  240  3.01875   0  1801   0  30.4   0    4  15.8018  \n",
       "604326  222.11  ...  0.175  240  3.01875   0  1800   0  31.3   0    4  15.8120  \n",
       "604327  222.11  ...  0.175  240  3.01875   0  1800   0  31.3   0    4  15.8270  \n",
       "604328  222.11  ...  0.175  240  3.01875   0  1800   0  31.3   0    4  15.8270  \n",
       "\n",
       "[604329 rows x 30 columns]"
      ]
     },
     "execution_count": 19,
     "metadata": {},
     "output_type": "execute_result"
    }
   ],
   "source": [
    "x=train.iloc[:,3:]\n",
    "x"
   ]
  },
  {
   "cell_type": "code",
   "execution_count": 20,
   "id": "0a79ecaf",
   "metadata": {},
   "outputs": [
    {
     "data": {
      "text/plain": [
       "0         0\n",
       "1         0\n",
       "2         0\n",
       "3         0\n",
       "4         0\n",
       "         ..\n",
       "604324    1\n",
       "604325    1\n",
       "604326    1\n",
       "604327    1\n",
       "604328    1\n",
       "Name: IsAlert, Length: 604329, dtype: int64"
      ]
     },
     "execution_count": 20,
     "metadata": {},
     "output_type": "execute_result"
    }
   ],
   "source": [
    "y=train['IsAlert']\n",
    "y"
   ]
  },
  {
   "cell_type": "code",
   "execution_count": 21,
   "id": "6221fc38",
   "metadata": {},
   "outputs": [
    {
     "name": "stdout",
     "output_type": "stream",
     "text": [
      "(604329, 30)\n",
      "(604329,)\n"
     ]
    }
   ],
   "source": [
    "print(x.shape)\n",
    "print(y.shape)"
   ]
  },
  {
   "cell_type": "code",
   "execution_count": 22,
   "id": "c7b18c12",
   "metadata": {},
   "outputs": [],
   "source": [
    "x_train, x_test, y_train, y_test = train_test_split(x,y,test_size=0.2)"
   ]
  },
  {
   "cell_type": "code",
   "execution_count": 23,
   "id": "c50eb01c",
   "metadata": {},
   "outputs": [
    {
     "name": "stdout",
     "output_type": "stream",
     "text": [
      "(483463, 30)\n",
      "(120866, 30)\n",
      "(120866,)\n",
      "(483463,)\n"
     ]
    }
   ],
   "source": [
    "print(x_train.shape)\n",
    "print(x_test.shape)\n",
    "print(y_test.shape)\n",
    "print(y_train.shape)\n"
   ]
  },
  {
   "cell_type": "code",
   "execution_count": 24,
   "id": "f6cf3ae4",
   "metadata": {},
   "outputs": [
    {
     "name": "stderr",
     "output_type": "stream",
     "text": [
      "E:\\an\\lib\\site-packages\\sklearn\\linear_model\\_logistic.py:814: ConvergenceWarning: lbfgs failed to converge (status=1):\n",
      "STOP: TOTAL NO. of ITERATIONS REACHED LIMIT.\n",
      "\n",
      "Increase the number of iterations (max_iter) or scale the data as shown in:\n",
      "    https://scikit-learn.org/stable/modules/preprocessing.html\n",
      "Please also refer to the documentation for alternative solver options:\n",
      "    https://scikit-learn.org/stable/modules/linear_model.html#logistic-regression\n",
      "  n_iter_i = _check_optimize_result(\n"
     ]
    }
   ],
   "source": [
    "lr = LogisticRegression()\n",
    "lr.fit(x_train, y_train)\n",
    "pred_ytrain_lr = lr.predict(x_train)\n",
    "pred_ytest_lr = lr.predict(x_test) "
   ]
  },
  {
   "cell_type": "code",
   "execution_count": 25,
   "id": "e00383e5",
   "metadata": {},
   "outputs": [],
   "source": [
    "def acc_report(actual,predicted):\n",
    "  acc_score = accuracy_score(actual,predicted)\n",
    "  cm_matrix = confusion_matrix(actual,predicted)\n",
    "  class_rep = classification_report(actual,predicted)\n",
    "  print(\"The accuracy is \", round(acc_score,2))\n",
    "  print(cm_matrix)\n",
    "  print(class_rep)"
   ]
  },
  {
   "cell_type": "code",
   "execution_count": 27,
   "id": "dbb73ed7",
   "metadata": {
    "scrolled": true
   },
   "outputs": [
    {
     "name": "stdout",
     "output_type": "stream",
     "text": [
      "The accuracy is  0.72\n",
      "[[129737  73760]\n",
      " [ 61853 218113]]\n",
      "              precision    recall  f1-score   support\n",
      "\n",
      "           0       0.68      0.64      0.66    203497\n",
      "           1       0.75      0.78      0.76    279966\n",
      "\n",
      "    accuracy                           0.72    483463\n",
      "   macro avg       0.71      0.71      0.71    483463\n",
      "weighted avg       0.72      0.72      0.72    483463\n",
      "\n"
     ]
    }
   ],
   "source": [
    "acc_report(y_train,pred_ytrain_lr)"
   ]
  },
  {
   "cell_type": "code",
   "execution_count": 28,
   "id": "eaefbbee",
   "metadata": {},
   "outputs": [
    {
     "name": "stdout",
     "output_type": "stream",
     "text": [
      "The accuracy is  0.72\n",
      "[[32491 18556]\n",
      " [15435 54384]]\n",
      "              precision    recall  f1-score   support\n",
      "\n",
      "           0       0.68      0.64      0.66     51047\n",
      "           1       0.75      0.78      0.76     69819\n",
      "\n",
      "    accuracy                           0.72    120866\n",
      "   macro avg       0.71      0.71      0.71    120866\n",
      "weighted avg       0.72      0.72      0.72    120866\n",
      "\n"
     ]
    }
   ],
   "source": [
    "acc_report(y_test,pred_ytest_lr)"
   ]
  },
  {
   "cell_type": "code",
   "execution_count": 38,
   "id": "39ec5b16",
   "metadata": {},
   "outputs": [
    {
     "data": {
      "text/plain": [
       "array([[0.85503031, 0.14496969],\n",
       "       [0.67333036, 0.32666964],\n",
       "       [0.69629147, 0.30370853],\n",
       "       ...,\n",
       "       [0.59405291, 0.40594709],\n",
       "       [0.19741123, 0.80258877],\n",
       "       [0.32828091, 0.67171909]])"
      ]
     },
     "execution_count": 38,
     "metadata": {},
     "output_type": "execute_result"
    }
   ],
   "source": [
    "lr.predict_proba(x_train)"
   ]
  },
  {
   "cell_type": "code",
   "execution_count": 29,
   "id": "0056ce28",
   "metadata": {},
   "outputs": [],
   "source": [
    "  dtree = DecisionTreeClassifier()\n",
    "  dtree.fit(x_train,y_train)\n",
    "  preds_dtree_train = dtree.predict(x_train)\n",
    "  preds_dtree_test = dtree.predict(x_test)"
   ]
  },
  {
   "cell_type": "code",
   "execution_count": 40,
   "id": "96db9bc3",
   "metadata": {},
   "outputs": [
    {
     "name": "stdout",
     "output_type": "stream",
     "text": [
      "The accuracy is  1.0\n",
      "[[203497      0]\n",
      " [     0 279966]]\n",
      "              precision    recall  f1-score   support\n",
      "\n",
      "           0       1.00      1.00      1.00    203497\n",
      "           1       1.00      1.00      1.00    279966\n",
      "\n",
      "    accuracy                           1.00    483463\n",
      "   macro avg       1.00      1.00      1.00    483463\n",
      "weighted avg       1.00      1.00      1.00    483463\n",
      "\n"
     ]
    }
   ],
   "source": [
    "acc_report(y_train,preds_dtree_train)"
   ]
  },
  {
   "cell_type": "code",
   "execution_count": 41,
   "id": "f75f493a",
   "metadata": {},
   "outputs": [
    {
     "name": "stdout",
     "output_type": "stream",
     "text": [
      "The accuracy is  0.99\n",
      "[[50361   686]\n",
      " [  793 69026]]\n",
      "              precision    recall  f1-score   support\n",
      "\n",
      "           0       0.98      0.99      0.99     51047\n",
      "           1       0.99      0.99      0.99     69819\n",
      "\n",
      "    accuracy                           0.99    120866\n",
      "   macro avg       0.99      0.99      0.99    120866\n",
      "weighted avg       0.99      0.99      0.99    120866\n",
      "\n"
     ]
    }
   ],
   "source": [
    "acc_report(y_test,preds_dtree_test)"
   ]
  },
  {
   "cell_type": "code",
   "execution_count": 31,
   "id": "13533f61",
   "metadata": {},
   "outputs": [],
   "source": [
    "from sklearn.ensemble import RandomForestClassifier"
   ]
  },
  {
   "cell_type": "code",
   "execution_count": 32,
   "id": "172390af",
   "metadata": {},
   "outputs": [
    {
     "name": "stderr",
     "output_type": "stream",
     "text": [
      "[Parallel(n_jobs=1)]: Using backend SequentialBackend with 1 concurrent workers.\n",
      "[Parallel(n_jobs=1)]: Done  20 out of  20 | elapsed:   17.2s finished\n"
     ]
    },
    {
     "data": {
      "text/plain": [
       "RandomForestClassifier(max_depth=3, n_estimators=20, verbose=1)"
      ]
     },
     "execution_count": 32,
     "metadata": {},
     "output_type": "execute_result"
    }
   ],
   "source": [
    "rf = RandomForestClassifier(n_estimators = 20,max_depth=3, verbose = 1)\n",
    "rf.fit(x_train,y_train)"
   ]
  },
  {
   "cell_type": "code",
   "execution_count": 33,
   "id": "19f2081f",
   "metadata": {},
   "outputs": [
    {
     "name": "stderr",
     "output_type": "stream",
     "text": [
      "[Parallel(n_jobs=1)]: Using backend SequentialBackend with 1 concurrent workers.\n",
      "[Parallel(n_jobs=1)]: Done  20 out of  20 | elapsed:    0.9s finished\n",
      "[Parallel(n_jobs=1)]: Using backend SequentialBackend with 1 concurrent workers.\n",
      "[Parallel(n_jobs=1)]: Done  20 out of  20 | elapsed:    0.1s finished\n"
     ]
    }
   ],
   "source": [
    "preds_rf_train = rf.predict(x_train)\n",
    "preds_rf_test = rf.predict(x_test)"
   ]
  },
  {
   "cell_type": "code",
   "execution_count": 34,
   "id": "6b5eaecc",
   "metadata": {
    "scrolled": true
   },
   "outputs": [
    {
     "name": "stdout",
     "output_type": "stream",
     "text": [
      "The accuracy is  0.81\n",
      "[[130739  72758]\n",
      " [ 17886 262080]]\n",
      "              precision    recall  f1-score   support\n",
      "\n",
      "           0       0.88      0.64      0.74    203497\n",
      "           1       0.78      0.94      0.85    279966\n",
      "\n",
      "    accuracy                           0.81    483463\n",
      "   macro avg       0.83      0.79      0.80    483463\n",
      "weighted avg       0.82      0.81      0.81    483463\n",
      "\n"
     ]
    }
   ],
   "source": [
    "acc_report(y_train,preds_rf_train)"
   ]
  },
  {
   "cell_type": "code",
   "execution_count": 42,
   "id": "7f175ae1",
   "metadata": {
    "scrolled": true
   },
   "outputs": [
    {
     "name": "stdout",
     "output_type": "stream",
     "text": [
      "The accuracy is  0.81\n",
      "[[32861 18186]\n",
      " [ 4421 65398]]\n",
      "              precision    recall  f1-score   support\n",
      "\n",
      "           0       0.88      0.64      0.74     51047\n",
      "           1       0.78      0.94      0.85     69819\n",
      "\n",
      "    accuracy                           0.81    120866\n",
      "   macro avg       0.83      0.79      0.80    120866\n",
      "weighted avg       0.82      0.81      0.81    120866\n",
      "\n"
     ]
    }
   ],
   "source": [
    "acc_report(y_test,preds_rf_test)"
   ]
  }
 ],
 "metadata": {
  "kernelspec": {
   "display_name": "Python 3 (ipykernel)",
   "language": "python",
   "name": "python3"
  },
  "language_info": {
   "codemirror_mode": {
    "name": "ipython",
    "version": 3
   },
   "file_extension": ".py",
   "mimetype": "text/x-python",
   "name": "python",
   "nbconvert_exporter": "python",
   "pygments_lexer": "ipython3",
   "version": "3.9.13"
  }
 },
 "nbformat": 4,
 "nbformat_minor": 5
}
